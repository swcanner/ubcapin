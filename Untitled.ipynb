{
 "cells": [
  {
   "cell_type": "code",
   "execution_count": 2,
   "id": "a9b43896-f5c4-4de8-8350-46182d4fe93c",
   "metadata": {},
   "outputs": [],
   "source": [
    "from Bio.PDB import *\n",
    "from Bio import SeqIO\n",
    "\n",
    "import os\n",
    "import numpy as np\n",
    "import pandas as pd\n",
    "import copy\n"
   ]
  },
  {
   "cell_type": "code",
   "execution_count": 8,
   "id": "cc9baf76-88c4-475d-92d0-ef927c8de1a1",
   "metadata": {},
   "outputs": [],
   "source": [
    "#stolen from https://github.com/ProteinDesignLab/protein_seq_des/blob/master/seq_des/util/data.py\n",
    "def download_pdb(pdb, data_dir):\n",
    "    \"\"\"\n",
    "    Args:\n",
    "        pdb (str): pdb ID.\n",
    "        data_dir (str): path to pdb directory\n",
    "    Returns:\n",
    "        f (str): path to downloaded pdb\n",
    "    \"\"\"\n",
    "\n",
    "    f = data_dir + \"/\" + pdb + \".pdb\"\n",
    "    if not os.path.isfile(f):\n",
    "        try:\n",
    "            f = data_dir + \"/\" + pdb + \".pdb\"\n",
    "            if not os.path.isfile(f):\n",
    "                os.system(\"wget -O {} https://files.rcsb.org/download/{}.pdb\".format(f, pdb.upper()))\n",
    "        except:\n",
    "            print(\"Unable to retrieve:\",pdb)\n",
    "    return f\n",
    "\n",
    "    "
   ]
  },
  {
   "cell_type": "code",
   "execution_count": 9,
   "id": "9ef26605-71b9-44ba-8423-21587318b53a",
   "metadata": {},
   "outputs": [],
   "source": [
    "df = pd.read_csv('init_dataset.csv')\n",
    "for ii in df.values:\n",
    "    if type(ii[1]) == type(np.nan):\n",
    "        continue;\n",
    "    #print(ii[1])\n",
    "    n = ii[1]\n",
    "    f = download_pdb(n,'./rcsb_pdb/')"
   ]
  },
  {
   "cell_type": "code",
   "execution_count": null,
   "id": "819e9da9-b71c-43c0-95c1-7143effd288b",
   "metadata": {},
   "outputs": [],
   "source": []
  },
  {
   "cell_type": "code",
   "execution_count": null,
   "id": "777e74b2-5421-4724-9b1d-e10a5e7b4a8d",
   "metadata": {},
   "outputs": [],
   "source": []
  }
 ],
 "metadata": {
  "kernelspec": {
   "display_name": "Python 3",
   "language": "python",
   "name": "python3"
  },
  "language_info": {
   "codemirror_mode": {
    "name": "ipython",
    "version": 3
   },
   "file_extension": ".py",
   "mimetype": "text/x-python",
   "name": "python",
   "nbconvert_exporter": "python",
   "pygments_lexer": "ipython3",
   "version": "3.8.8"
  }
 },
 "nbformat": 4,
 "nbformat_minor": 5
}
