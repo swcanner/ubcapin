{
 "cells": [
  {
   "cell_type": "code",
   "execution_count": 1,
   "id": "a9b43896-f5c4-4de8-8350-46182d4fe93c",
   "metadata": {},
   "outputs": [],
   "source": [
    "from Bio.PDB import *\n",
    "from Bio import SeqIO\n",
    "\n",
    "import os\n",
    "import numpy as np\n",
    "import pandas as pd\n",
    "import copy\n",
    "\n",
    "from glyles import convert"
   ]
  },
  {
   "cell_type": "code",
   "execution_count": 2,
   "id": "cc9baf76-88c4-475d-92d0-ef927c8de1a1",
   "metadata": {},
   "outputs": [],
   "source": [
    "#stolen from https://github.com/ProteinDesignLab/protein_seq_des/blob/master/seq_des/util/data.py\n",
    "def download_pdb(pdb, data_dir):\n",
    "    \"\"\"\n",
    "    Args:\n",
    "        pdb (str): pdb ID.\n",
    "        data_dir (str): path to pdb directory\n",
    "    Returns:\n",
    "        f (str): path to downloaded pdb\n",
    "    \"\"\"\n",
    "\n",
    "    f = data_dir + \"/\" + pdb + \".pdb\"\n",
    "    if not os.path.isfile(f):\n",
    "        try:\n",
    "            f = data_dir + \"/\" + pdb + \".pdb\"\n",
    "            if not os.path.isfile(f):\n",
    "                os.system(\"wget -O {} https://files.rcsb.org/download/{}.pdb\".format(f, pdb.upper()))\n",
    "        except:\n",
    "            print(\"Unable to retrieve:\",pdb)\n",
    "    return f\n"
   ]
  },
  {
   "cell_type": "code",
   "execution_count": 77,
   "id": "9ef26605-71b9-44ba-8423-21587318b53a",
   "metadata": {},
   "outputs": [
    {
     "data": {
      "text/plain": [
       "\"\\nfor ii in df.values:\\n    if type(ii[1]) == type(np.nan):\\n        continue;\\n    #print(ii[1])\\n    n = ii[1]\\n    f = download_pdb(n,'./rcsb_pdb/')\\n\""
      ]
     },
     "execution_count": 77,
     "metadata": {},
     "output_type": "execute_result"
    }
   ],
   "source": [
    "\n",
    "df = pd.read_csv('init_dataset.csv')\n",
    "'''\n",
    "for ii in df.values:\n",
    "    if type(ii[1]) == type(np.nan):\n",
    "        continue;\n",
    "    #print(ii[1])\n",
    "    n = ii[1]\n",
    "    f = download_pdb(n,'./rcsb_pdb/')\n",
    "'''"
   ]
  },
  {
   "cell_type": "code",
   "execution_count": 53,
   "id": "1ae65981-03ea-4867-91e0-f5f7f6f94042",
   "metadata": {},
   "outputs": [
    {
     "data": {
      "text/plain": [
       "['8bf3.pdb', '7rpy.pdb', '7rft.pdb', '7eqr.pdb', '8inp.pdb']"
      ]
     },
     "execution_count": 53,
     "metadata": {},
     "output_type": "execute_result"
    }
   ],
   "source": [
    "ls = os.listdir('./rcsb_pdb/')\n",
    "ls[:5]"
   ]
  },
  {
   "cell_type": "code",
   "execution_count": 54,
   "id": "8bc0626c-cf78-4349-bd7e-8c6656e4beb9",
   "metadata": {},
   "outputs": [
    {
     "data": {
      "text/plain": [
       "'MurNAc'"
      ]
     },
     "execution_count": 54,
     "metadata": {},
     "output_type": "execute_result"
    }
   ],
   "source": [
    "df.values[5][9]"
   ]
  },
  {
   "cell_type": "code",
   "execution_count": null,
   "id": "b997fad8-36b5-4dca-b187-0a0c8992e9d2",
   "metadata": {},
   "outputs": [],
   "source": []
  },
  {
   "cell_type": "code",
   "execution_count": 84,
   "id": "819e9da9-b71c-43c0-95c1-7143effd288b",
   "metadata": {},
   "outputs": [],
   "source": [
    "class ChainSelect(Select):\n",
    "    def accept_residue(self, residue):\n",
    "        r = residue\n",
    "        #help(r)\n",
    "        #if residue.get_resname()=='GLY':\n",
    "        \n",
    "        n = str(r.id[1]).strip()\n",
    "        c = str(r.get_parent().id).strip()\n",
    "        #print(n,c)\n",
    "        resname = str(r.get_resname())\n",
    "        #remove waters\n",
    "        badres = ['HOH','CA','NA','CL','ZN','EDO','GOL','C8E','TRS','MXE','MPD','C',\n",
    "                  'MN','IOD','PG4','MLT','MLI','ACT','MG','DMU','SO4','IMD','ACT','PGE',\n",
    "                  'PEG']\n",
    "        if resname in badres:\n",
    "            return 0\n",
    "        \n",
    "        #resarr = [n,c,resname]\n",
    "        #if resname in carb:\n",
    "        #if resarr in res_p:\n",
    "        if c in chains:\n",
    "            return 1\n",
    "        else:\n",
    "            return 0"
   ]
  },
  {
   "cell_type": "code",
   "execution_count": null,
   "id": "5f25a9a6-4e58-45e1-93a6-f476f20880c0",
   "metadata": {},
   "outputs": [],
   "source": []
  },
  {
   "cell_type": "code",
   "execution_count": 86,
   "id": "777e74b2-5421-4724-9b1d-e10a5e7b4a8d",
   "metadata": {
    "tags": []
   },
   "outputs": [
    {
     "name": "stdout",
     "output_type": "stream",
     "text": [
      "8dzd ['A', 'C']\n",
      "8edi ['A', 'E']\n",
      "8ic1 ['A', 'F']\n"
     ]
    },
    {
     "name": "stderr",
     "output_type": "stream",
     "text": [
      "/Users/scanner1/opt/anaconda3/lib/python3.8/site-packages/Bio/PDB/StructureBuilder.py:89: PDBConstructionWarning: WARNING: Chain A is discontinuous at line 2559.\n",
      "  warnings.warn(\n",
      "/Users/scanner1/opt/anaconda3/lib/python3.8/site-packages/Bio/PDB/StructureBuilder.py:89: PDBConstructionWarning: WARNING: Chain B is discontinuous at line 2654.\n",
      "  warnings.warn(\n",
      "/Users/scanner1/opt/anaconda3/lib/python3.8/site-packages/Bio/PDB/StructureBuilder.py:89: PDBConstructionWarning: WARNING: Chain A is discontinuous at line 7016.\n",
      "  warnings.warn(\n",
      "/Users/scanner1/opt/anaconda3/lib/python3.8/site-packages/Bio/PDB/StructureBuilder.py:89: PDBConstructionWarning: WARNING: Chain B is discontinuous at line 7028.\n",
      "  warnings.warn(\n",
      "/Users/scanner1/opt/anaconda3/lib/python3.8/site-packages/Bio/PDB/StructureBuilder.py:89: PDBConstructionWarning: WARNING: Chain A is discontinuous at line 16109.\n",
      "  warnings.warn(\n",
      "/Users/scanner1/opt/anaconda3/lib/python3.8/site-packages/Bio/PDB/StructureBuilder.py:89: PDBConstructionWarning: WARNING: Chain B is discontinuous at line 16163.\n",
      "  warnings.warn(\n",
      "/Users/scanner1/opt/anaconda3/lib/python3.8/site-packages/Bio/PDB/StructureBuilder.py:89: PDBConstructionWarning: WARNING: Chain C is discontinuous at line 16237.\n",
      "  warnings.warn(\n",
      "/Users/scanner1/opt/anaconda3/lib/python3.8/site-packages/Bio/PDB/StructureBuilder.py:89: PDBConstructionWarning: WARNING: Chain D is discontinuous at line 16294.\n",
      "  warnings.warn(\n",
      "/Users/scanner1/opt/anaconda3/lib/python3.8/site-packages/Bio/PDB/StructureBuilder.py:89: PDBConstructionWarning: WARNING: Chain A is discontinuous at line 16351.\n",
      "  warnings.warn(\n",
      "/Users/scanner1/opt/anaconda3/lib/python3.8/site-packages/Bio/PDB/StructureBuilder.py:89: PDBConstructionWarning: WARNING: Chain B is discontinuous at line 16705.\n",
      "  warnings.warn(\n",
      "/Users/scanner1/opt/anaconda3/lib/python3.8/site-packages/Bio/PDB/StructureBuilder.py:89: PDBConstructionWarning: WARNING: Chain C is discontinuous at line 17035.\n",
      "  warnings.warn(\n",
      "/Users/scanner1/opt/anaconda3/lib/python3.8/site-packages/Bio/PDB/StructureBuilder.py:89: PDBConstructionWarning: WARNING: Chain D is discontinuous at line 17348.\n",
      "  warnings.warn(\n"
     ]
    },
    {
     "name": "stdout",
     "output_type": "stream",
     "text": [
      "8inp ['A', 'C']\n",
      "8ped ['A', 'B']\n"
     ]
    },
    {
     "name": "stderr",
     "output_type": "stream",
     "text": [
      "/Users/scanner1/opt/anaconda3/lib/python3.8/site-packages/Bio/PDB/StructureBuilder.py:89: PDBConstructionWarning: WARNING: Chain A is discontinuous at line 6110.\n",
      "  warnings.warn(\n"
     ]
    }
   ],
   "source": [
    "parser=PDBParser()\n",
    "io=PDBIO()\n",
    "\n",
    "chains = []\n",
    "\n",
    "for ii in df.values[50:]:\n",
    "    if type(ii[1]) == type(np.nan):\n",
    "        continue;\n",
    "    \n",
    "    p = ii[1]\n",
    "    pc = ii[6]\n",
    "    cc = ii[8]\n",
    "    oc = ii[-1]\n",
    "    mychains = [pc,cc]\n",
    "    if type(oc) != type(np.nan):\n",
    "        mychains.append(oc)\n",
    "    \n",
    "    print(p,mychains)\n",
    "\n",
    "    #try:\n",
    "    if True:\n",
    "        structure=parser.get_structure(\"prot\", 'rcsb_pdb/'+ p + '.pdb')\n",
    "        #print(ii,p,c_prot,c_carb)\n",
    "        chains = mychains\n",
    "        if p == '8ped':\n",
    "            chains=['A','B','C']\n",
    "        io.set_structure(structure)\n",
    "        io.save('./refined_xtal_pdb/' + p + '_refined' + '.pdb', ChainSelect())\n",
    "    #except:\n",
    "    #    print(\"ope\",p)"
   ]
  },
  {
   "cell_type": "code",
   "execution_count": 80,
   "id": "a8db7ac1-1e8b-4951-ac45-308672f0b24c",
   "metadata": {},
   "outputs": [
    {
     "name": "stderr",
     "output_type": "stream",
     "text": [
      "line 1:1 token recognition error at: 'HS}'\n",
      "ERROR:root:A parsing error occurred with \"HS\": Error message: Glycan cannot be parsed: line 1:1 token recognition error at: 'HS}'\n"
     ]
    },
    {
     "name": "stdout",
     "output_type": "stream",
     "text": [
      "7lvy O1C(O)[C@H](O)[C@@H](O)[C@H](O)[C@H]1CO\n",
      "7mzs O1C(O)[C@H](O)[C@@H](O)[C@@H](O)[C@H]1CO\n",
      "7p8g O1C(O)[C@H](O)[C@@H](O)[C@H](O)[C@H]1CO\n",
      "7pgk \n",
      "7pug O1C[C@@H](O[C@@H]2OC[C@@H](O[C@@H]3OC[C@@H](O[C@@H]4OC[C@@H](O[C@@H]5OC[C@@H](O[C@@H]6OC[C@@H](O[C@@H]7OC[C@@H](O)[C@H](O)[C@H]7O)[C@H](O)[C@H]6O)[C@H](O)[C@H]5O)[C@H](O)[C@H]4O)[C@H](O)[C@H]3O)[C@H](O)[C@H]2O)[C@H](O)[C@@H](O)[C@@H]1O\n",
      "7rft O1[C@H](O)[C@H](O)[C@@H](O)[C@H](O[C@H]2O[C@H](CO)[C@@H](O[C@H]3O[C@H](CO)[C@@H](O)[C@H](O)[C@H]3O)[C@H](O)[C@H]2O)[C@H]1CO\n",
      "7rpy O1[C@H](O)[C@H](O)[C@@H](O)[C@H](O[C@H]2O[C@H](CO)[C@@H](O[C@H]3O[C@H](CO)[C@@H](O)[C@H](O)[C@H]3O)[C@H](O)[C@H]2O)[C@H]1CO\n",
      "7toh O1C[C@@H](O)[C@H](O)[C@@H](O[C@H]2O[C@H](C(=O)O)[C@@H](OC)[C@H](O)[C@H]2O)[C@@H]1O\n"
     ]
    },
    {
     "name": "stderr",
     "output_type": "stream",
     "text": [
      "ERROR:root:A parsing error occurred with \"nan\": Error message: Only string input can be parsed: nan\n"
     ]
    },
    {
     "name": "stdout",
     "output_type": "stream",
     "text": [
      "7tvp O1C(O)[C@H](NC(C)=O)[C@@H](O)[C@H](O[C@@H]2O[C@H](CO)[C@@H](O[C@@H]3O[C@H](CO)[C@@H](O[C@@H]4O[C@H](CO)[C@@H](O[C@@H]5O[C@H](CO)[C@@H](O)[C@H](O)[C@H]5NC(C)=O)[C@H](O)[C@H]4NC(C)=O)[C@H](O)[C@H]3NC(C)=O)[C@H](O)[C@H]2NC(C)=O)[C@H]1CO\n",
      "binds phospho-Fru \n",
      "7vu1 O1C(O)[C@H](NC(C)=O)[C@@H](O)[C@H](O[C@@H]2O[C@H](CO)[C@@H](O[C@@H]3O[C@H](CO)[C@@H](O[C@@H]4O[C@H](CO)[C@@H](O[C@@H]5O[C@H](CO)[C@@H](O[C@@H]6O[C@H](CO)[C@@H](O[C@@H]7O[C@H](CO)[C@@H](O)[C@H](O)[C@H]7NC(C)=O)[C@H](O)[C@H]6NC(C)=O)[C@H](O)[C@H]5NC(C)=O)[C@H](O)[C@H]4NC(C)=O)[C@H](O)[C@H]3NC(C)=O)[C@H](O)[C@H]2NC(C)=O)[C@H]1CO\n",
      "7vwb O1[C@H](O)[C@H](NC(C)=O)[C@@H](O)[C@H](O[C@@H]2O[C@H](CO)[C@H](O)[C@H](O)[C@H]2O)[C@H]1CO\n",
      "7w18 O1[C@@H](O)[C@@H](O)[C@@H](O)[C@H](O[C@@H]2O[C@H](CO)[C@@H](O[C@@H]3O[C@H](CO)[C@@H](O[C@@H]4O[C@H](CO)[C@@H](O[C@@H]5O[C@H](CO)[C@@H](O[C@@H]6O[C@H](CO)[C@@H](O[C@@H]7O[C@H](CO)[C@@H](O)[C@H](O)[C@@H]7O)[C@H](O)[C@@H]6O)[C@H](O)[C@@H]5O)[C@H](O)[C@@H]4O)[C@H](O)[C@@H]3O)[C@H](O)[C@@H]2O)[C@H]1CO\n",
      "7xtn O1C(O)[C@H](NC(C)=O)[C@@H](O)[C@H](O)[C@H]1CO\n",
      "7ywf O1[C@@H](O)[C@H](O)[C@@H](O[C@H]2O[C@H](CO)[C@H](O)[C@H](O)[C@H]2O)[C@@H](O)[C@H]1CO\n",
      "7zoo O1[C@@H](O)[C@H](O)[C@@H](O)[C@H](O)[C@H]1CO\n",
      "8axs O1[C@@H]([C@H](O)[C@H](O)CO)[C@H](NC(C)=O)[C@@H](O)CC1(O)C(=O)O\n",
      "8bf3 O1C[C@@H](O[C@@H]2OC[C@@H](O)[C@H](O)[C@H]2O)[C@H](O)[C@@H](O)[C@@H]1O\n",
      "8csf O1[C@@H](O)[C@H](NC(C)=O)[C@@H](O[C@@H]2O[C@@H](C)[C@H](O)[C@@H](O)[C@H]2O)[C@H](O)[C@H]1CO\n"
     ]
    },
    {
     "name": "stderr",
     "output_type": "stream",
     "text": [
      "line 1:5 token recognition error at: 'r'\n",
      "ERROR:root:A parsing error occurred with \"Heparin_analog\": Error message: Glycan cannot be parsed: line 1:5 token recognition error at: 'r'\n"
     ]
    },
    {
     "name": "stdout",
     "output_type": "stream",
     "text": [
      "8d0w O1[C@@H](O)[C@H](NC(C)=O)[C@@H](O)[C@H](O[C@@H]2O[C@H](CO)[C@H](O)[C@H](O)[C@H]2O[C@@H]3O[C@@H](C)[C@@H](O)[C@@H](O)[C@@H]3O)[C@H]1CO\n",
      "8dzd O1[C@H](O[C@]2(CO)OC[C@@H](O)[C@@H](O)[C@@H]2O)[C@H](O)[C@@H](O)[C@H](O)[C@H]1CO\n",
      "8edi \n",
      "8ic1 O1C(O)[C@H](O)[C@@H](O)[C@@H]1CO[C@@H]2O[C@@H](CO[C@@H]3O[C@@H](CO[C@@H]4O[C@@H](CO[C@@H]5O[C@@H](CO[C@@H]6O[C@@H](CO[C@@H]7O[C@@H](CO)[C@H](O)[C@H]7O)[C@H](O)[C@H]6O)[C@H](O)[C@H]5O)[C@H](O)[C@H]4O)[C@H](O)[C@H]3O)[C@H](O)[C@H]2O\n",
      "8inp O1C(O)[C@H](O)[C@@H](O)[C@H](O)[C@H]1CO\n",
      "8ped O1[C@@H](O)[C@@H](O)[C@@H](O)[C@H](O[C@@H]2O[C@H](CO)[C@@H](O[C@@H]3O[C@H](CO)[C@@H](O[C@@H]4O[C@H](CO)[C@@H](O[C@@H]5O[C@H](CO)[C@@H](O[C@@H]6O[C@H](CO)[C@@H](O[C@@H]7O[C@H](CO)[C@@H](O[C@@H]8O[C@H](CO)[C@@H](O[C@@H]9O[C@H](CO)[C@@H](O[C@@H]%10O[C@H](CO)[C@@H](O)[C@H](O)[C@@H]%10O)[C@H](O)[C@@H]9O)[C@H](O)[C@@H]8O)[C@H](O)[C@@H]7O)[C@H](O)[C@@H]6O)[C@H](O)[C@@H]5O)[C@H](O)[C@@H]4O)[C@H](O)[C@@H]3O)[C@H](O)[C@@H]2O)[C@H]1CO\n"
     ]
    }
   ],
   "source": [
    "for ii in df.values[20:]:\n",
    "    if type(ii[1]) == type(np.nan):\n",
    "        continue;\n",
    "        \n",
    "    opetype = ii[9]\n",
    "    #print(ii[1],opetype)\n",
    "    try:\n",
    "        print( ii[1], convert(ii[9])[0][1] )\n",
    "    except:\n",
    "        print('null')"
   ]
  },
  {
   "cell_type": "code",
   "execution_count": 33,
   "id": "7f97d406-2d2f-4a37-9d7e-a22d44cde762",
   "metadata": {},
   "outputs": [
    {
     "data": {
      "text/plain": [
       "[('Neu5Ac', 'O1[C@@H]([C@H](O)[C@H](O)CO)[C@H](NC(C)=O)[C@@H](O)CC1(O)C(=O)O')]"
      ]
     },
     "execution_count": 33,
     "metadata": {},
     "output_type": "execute_result"
    }
   ],
   "source": [
    "convert('Neu5Ac')"
   ]
  },
  {
   "cell_type": "code",
   "execution_count": 19,
   "id": "8f0990da-f160-4ecc-b252-bdbbbdbd0abd",
   "metadata": {},
   "outputs": [
    {
     "data": {
      "text/plain": [
       "[('GlcNAc(b1-4)GlcNAc(b1-4)GlcNAc(b1-4)GlcNAc(b1-4)GlcNAc(b1-4)GlcNAc(b1-4)GlcNAc(b1-4)GlcNAc(b1-4)GlcNAc',\n",
       "  'O1C(O)[C@H](NC(C)=O)[C@@H](O)[C@H](O[C@@H]2O[C@H](CO)[C@@H](O[C@@H]3O[C@H](CO)[C@@H](O[C@@H]4O[C@H](CO)[C@@H](O[C@@H]5O[C@H](CO)[C@@H](O[C@@H]6O[C@H](CO)[C@@H](O[C@@H]7O[C@H](CO)[C@@H](O[C@@H]8O[C@H](CO)[C@@H](O[C@@H]9O[C@H](CO)[C@@H](O)[C@H](O)[C@H]9NC(C)=O)[C@H](O)[C@H]8NC(C)=O)[C@H](O)[C@H]7NC(C)=O)[C@H](O)[C@H]6NC(C)=O)[C@H](O)[C@H]5NC(C)=O)[C@H](O)[C@H]4NC(C)=O)[C@H](O)[C@H]3NC(C)=O)[C@H](O)[C@H]2NC(C)=O)[C@H]1CO')]"
      ]
     },
     "execution_count": 19,
     "metadata": {},
     "output_type": "execute_result"
    }
   ],
   "source": [
    "convert('GlcNAc(b1-4)GlcNAc(b1-4)GlcNAc(b1-4)GlcNAc(b1-4)GlcNAc(b1-4)GlcNAc(b1-4)GlcNAc(b1-4)GlcNAc(b1-4)GlcNAc')"
   ]
  },
  {
   "cell_type": "code",
   "execution_count": 22,
   "id": "30fefdae-8d99-431b-8439-df9ecf91a81c",
   "metadata": {},
   "outputs": [
    {
     "data": {
      "text/plain": [
       "[('Fruf(b2-1)[Gal(a1-6)]Glc',\n",
       "  'O1C(O[C@]2(CO)O[C@H](CO)[C@@H](O)[C@@H]2O)[C@H](O)[C@@H](O)[C@H](O)[C@H]1CO[C@H]2O[C@H](CO)[C@H](O)[C@H](O)[C@H]2O')]"
      ]
     },
     "execution_count": 22,
     "metadata": {},
     "output_type": "execute_result"
    }
   ],
   "source": [
    "convert('Fruf(b2-1)[Gal(a1-6)]Glc')"
   ]
  },
  {
   "cell_type": "code",
   "execution_count": 24,
   "id": "f483d13a-997e-415a-bcd5-69cfca5d03fa",
   "metadata": {},
   "outputs": [
    {
     "data": {
      "text/plain": [
       "[('Gal(a1-3)Galb',\n",
       "  'O1[C@@H](O)[C@H](O)[C@@H](O[C@H]2O[C@H](CO)[C@H](O)[C@H](O)[C@H]2O)[C@@H](O)[C@H]1CO')]"
      ]
     },
     "execution_count": 24,
     "metadata": {},
     "output_type": "execute_result"
    }
   ],
   "source": [
    "convert('Gal(a1-3)Galb')"
   ]
  },
  {
   "cell_type": "code",
   "execution_count": 26,
   "id": "50d64ee7-a3d1-4ef0-9f25-0b8494d41a34",
   "metadata": {},
   "outputs": [
    {
     "data": {
      "text/plain": [
       "[('Xyl(b1-4)Xyl(b1-4)Xyl(b1-4)Xyl(b1-4)Xyl(b1-4)Xyl(b1-4)Xylb',\n",
       "  'O1C[C@@H](O[C@@H]2OC[C@@H](O[C@@H]3OC[C@@H](O[C@@H]4OC[C@@H](O[C@@H]5OC[C@@H](O[C@@H]6OC[C@@H](O[C@@H]7OC[C@@H](O)[C@H](O)[C@H]7O)[C@H](O)[C@H]6O)[C@H](O)[C@H]5O)[C@H](O)[C@H]4O)[C@H](O)[C@H]3O)[C@H](O)[C@H]2O)[C@H](O)[C@@H](O)[C@@H]1O')]"
      ]
     },
     "execution_count": 26,
     "metadata": {},
     "output_type": "execute_result"
    }
   ],
   "source": [
    "convert('Xyl(b1-4)Xyl(b1-4)Xyl(b1-4)Xyl(b1-4)Xyl(b1-4)Xyl(b1-4)Xylb')"
   ]
  },
  {
   "cell_type": "code",
   "execution_count": 66,
   "id": "dfdaf3f6-6c24-44f5-bc07-efc8963ba3dd",
   "metadata": {},
   "outputs": [],
   "source": [
    "import pyperclip as clip"
   ]
  },
  {
   "cell_type": "code",
   "execution_count": 67,
   "id": "1ba99b40-d22b-4f58-b503-1309b39bed94",
   "metadata": {},
   "outputs": [],
   "source": [
    "a = 'Xyl(b1-4)Xyl(b1-4)Xyl(b1-4)Xyl(b1-4)Xyl(b1-4)Xyl(b1-4)Xylb'\n",
    "a\n",
    "b = convert(a)[0][1]\n",
    "clip.copy(b)"
   ]
  },
  {
   "cell_type": "code",
   "execution_count": 28,
   "id": "e1cf968c-4fa3-44a5-9457-40892ef5ee2a",
   "metadata": {},
   "outputs": [
    {
     "data": {
      "text/plain": [
       "[('GlcA4Me(a1-2)Xylb',\n",
       "  'O1C[C@@H](O)[C@H](O)[C@@H](O[C@H]2O[C@H](C(=O)O)[C@@H](OC)[C@H](O)[C@H]2O)[C@@H]1O')]"
      ]
     },
     "execution_count": 28,
     "metadata": {},
     "output_type": "execute_result"
    }
   ],
   "source": [
    "convert('GlcA4Me(a1-2)Xylb')"
   ]
  },
  {
   "cell_type": "code",
   "execution_count": 30,
   "id": "bbc4ead2-7f6a-4119-911f-2ee009ac61df",
   "metadata": {},
   "outputs": [
    {
     "data": {
      "text/plain": [
       "[('Gal(b1-4)GlcNAca',\n",
       "  'O1[C@H](O)[C@H](NC(C)=O)[C@@H](O)[C@H](O[C@@H]2O[C@H](CO)[C@H](O)[C@H](O)[C@H]2O)[C@H]1CO')]"
      ]
     },
     "execution_count": 30,
     "metadata": {},
     "output_type": "execute_result"
    }
   ],
   "source": [
    "convert('Gal(b1-4)GlcNAca')"
   ]
  },
  {
   "cell_type": "code",
   "execution_count": 32,
   "id": "581050b0-4eb2-44b3-8d3c-0dbc99970801",
   "metadata": {},
   "outputs": [
    {
     "data": {
      "text/plain": [
       "[('Man(b1-4)Man(b1-4)Man(b1-4)Man(b1-4)Man(b1-4)Man(b1-4)Manb',\n",
       "  'O1[C@@H](O)[C@@H](O)[C@@H](O)[C@H](O[C@@H]2O[C@H](CO)[C@@H](O[C@@H]3O[C@H](CO)[C@@H](O[C@@H]4O[C@H](CO)[C@@H](O[C@@H]5O[C@H](CO)[C@@H](O[C@@H]6O[C@H](CO)[C@@H](O[C@@H]7O[C@H](CO)[C@@H](O)[C@H](O)[C@@H]7O)[C@H](O)[C@@H]6O)[C@H](O)[C@@H]5O)[C@H](O)[C@@H]4O)[C@H](O)[C@@H]3O)[C@H](O)[C@@H]2O)[C@H]1CO')]"
      ]
     },
     "execution_count": 32,
     "metadata": {},
     "output_type": "execute_result"
    }
   ],
   "source": [
    "convert('Man(b1-4)Man(b1-4)Man(b1-4)Man(b1-4)Man(b1-4)Man(b1-4)Manb')"
   ]
  },
  {
   "cell_type": "code",
   "execution_count": 35,
   "id": "2f0eccb3-f5fd-40aa-90af-104bd5f8db24",
   "metadata": {},
   "outputs": [
    {
     "data": {
      "text/plain": [
       "[('Rha(a1-3)GlcNAcb',\n",
       "  'O1[C@@H](O)[C@H](NC(C)=O)[C@@H](O[C@@H]2O[C@@H](C)[C@H](O)[C@@H](O)[C@H]2O)[C@H](O)[C@H]1CO')]"
      ]
     },
     "execution_count": 35,
     "metadata": {},
     "output_type": "execute_result"
    }
   ],
   "source": [
    "convert('Rha(a1-3)GlcNAcb')"
   ]
  },
  {
   "cell_type": "code",
   "execution_count": 49,
   "id": "86653b6d-f920-41a6-a043-a2820118175e",
   "metadata": {},
   "outputs": [
    {
     "data": {
      "text/plain": [
       "[('Araf(a1-5)Araf(a1-5)Araf(a1-5)Araf(a1-5)Araf(a1-5)Araf(a1-5)Araf',\n",
       "  'O1C(O)[C@H](O)[C@@H](O)[C@@H]1CO[C@@H]2O[C@@H](CO[C@@H]3O[C@@H](CO[C@@H]4O[C@@H](CO[C@@H]5O[C@@H](CO[C@@H]6O[C@@H](CO[C@@H]7O[C@@H](CO)[C@H](O)[C@H]7O)[C@H](O)[C@H]6O)[C@H](O)[C@H]5O)[C@H](O)[C@H]4O)[C@H](O)[C@H]3O)[C@H](O)[C@H]2O')]"
      ]
     },
     "execution_count": 49,
     "metadata": {},
     "output_type": "execute_result"
    }
   ],
   "source": [
    "convert('Araf(a1-5)Araf(a1-5)Araf(a1-5)Araf(a1-5)Araf(a1-5)Araf(a1-5)Araf')"
   ]
  },
  {
   "cell_type": "code",
   "execution_count": 51,
   "id": "7d5ae3d9-59ed-4e6c-9b9a-16109ff05fb4",
   "metadata": {},
   "outputs": [
    {
     "data": {
      "text/plain": [
       "[('Man(b1-4)Man(b1-4)Man(b1-4)Man(b1-4)Man(b1-4)Man(b1-4)Man(b1-4)Man(b1-4)Man(b1-4)Manb',\n",
       "  'O1[C@@H](O)[C@@H](O)[C@@H](O)[C@H](O[C@@H]2O[C@H](CO)[C@@H](O[C@@H]3O[C@H](CO)[C@@H](O[C@@H]4O[C@H](CO)[C@@H](O[C@@H]5O[C@H](CO)[C@@H](O[C@@H]6O[C@H](CO)[C@@H](O[C@@H]7O[C@H](CO)[C@@H](O[C@@H]8O[C@H](CO)[C@@H](O[C@@H]9O[C@H](CO)[C@@H](O[C@@H]%10O[C@H](CO)[C@@H](O)[C@H](O)[C@@H]%10O)[C@H](O)[C@@H]9O)[C@H](O)[C@@H]8O)[C@H](O)[C@@H]7O)[C@H](O)[C@@H]6O)[C@H](O)[C@@H]5O)[C@H](O)[C@@H]4O)[C@H](O)[C@@H]3O)[C@H](O)[C@@H]2O)[C@H]1CO')]"
      ]
     },
     "execution_count": 51,
     "metadata": {},
     "output_type": "execute_result"
    }
   ],
   "source": [
    "convert('Man(b1-4)Man(b1-4)Man(b1-4)Man(b1-4)Man(b1-4)Man(b1-4)Man(b1-4)Man(b1-4)Man(b1-4)Manb')"
   ]
  },
  {
   "cell_type": "code",
   "execution_count": null,
   "id": "efd42f86-27a0-49be-a107-e471c592487d",
   "metadata": {},
   "outputs": [],
   "source": []
  }
 ],
 "metadata": {
  "kernelspec": {
   "display_name": "Python 3",
   "language": "python",
   "name": "python3"
  },
  "language_info": {
   "codemirror_mode": {
    "name": "ipython",
    "version": 3
   },
   "file_extension": ".py",
   "mimetype": "text/x-python",
   "name": "python",
   "nbconvert_exporter": "python",
   "pygments_lexer": "ipython3",
   "version": "3.8.8"
  }
 },
 "nbformat": 4,
 "nbformat_minor": 5
}
