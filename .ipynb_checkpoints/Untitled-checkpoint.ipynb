{
 "cells": [
  {
   "cell_type": "code",
   "execution_count": null,
   "id": "a9b43896-f5c4-4de8-8350-46182d4fe93c",
   "metadata": {},
   "outputs": [],
   "source": [
    "from Bio.PDB import *\n",
    "from Bio import SeqIO\n",
    "\n",
    "import os\n",
    "import numpy as np\n",
    "import pandas as pd\n",
    "import copy\n",
    "\n",
    "from glyles import convert"
   ]
  },
  {
   "cell_type": "code",
   "execution_count": null,
   "id": "cc9baf76-88c4-475d-92d0-ef927c8de1a1",
   "metadata": {},
   "outputs": [],
   "source": [
    "#stolen from https://github.com/ProteinDesignLab/protein_seq_des/blob/master/seq_des/util/data.py\n",
    "def download_pdb(pdb, data_dir):\n",
    "    \"\"\"\n",
    "    Args:\n",
    "        pdb (str): pdb ID.\n",
    "        data_dir (str): path to pdb directory\n",
    "    Returns:\n",
    "        f (str): path to downloaded pdb\n",
    "    \"\"\"\n",
    "\n",
    "    f = data_dir + \"/\" + pdb + \".pdb\"\n",
    "    if not os.path.isfile(f):\n",
    "        try:\n",
    "            f = data_dir + \"/\" + pdb + \".pdb\"\n",
    "            if not os.path.isfile(f):\n",
    "                os.system(\"wget -O {} https://files.rcsb.org/download/{}.pdb\".format(f, pdb.upper()))\n",
    "        except:\n",
    "            print(\"Unable to retrieve:\",pdb)\n",
    "    return f\n"
   ]
  },
  {
   "cell_type": "code",
   "execution_count": null,
   "id": "9ef26605-71b9-44ba-8423-21587318b53a",
   "metadata": {},
   "outputs": [],
   "source": [
    "\n",
    "df = pd.read_csv('init_dataset.csv')\n",
    "'''\n",
    "for ii in df.values:\n",
    "    if type(ii[1]) == type(np.nan):\n",
    "        continue;\n",
    "    #print(ii[1])\n",
    "    n = ii[1]\n",
    "    f = download_pdb(n,'./rcsb_pdb/')\n",
    "'''"
   ]
  },
  {
   "cell_type": "code",
   "execution_count": 27,
   "id": "1ae65981-03ea-4867-91e0-f5f7f6f94042",
   "metadata": {},
   "outputs": [
    {
     "data": {
      "text/plain": [
       "['8bf3.pdb', '7rpy.pdb', '7rft.pdb', '7eqr.pdb', '8inp.pdb']"
      ]
     },
     "execution_count": 27,
     "metadata": {},
     "output_type": "execute_result"
    }
   ],
   "source": [
    "ls = os.listdir('./rcsb_pdb/')\n",
    "ls[:5]"
   ]
  },
  {
   "cell_type": "code",
   "execution_count": 28,
   "id": "8bc0626c-cf78-4349-bd7e-8c6656e4beb9",
   "metadata": {},
   "outputs": [
    {
     "data": {
      "text/plain": [
       "array([nan, '7en5', 'HTH-type transcriptional regulator MurR', 'P77245',\n",
       "       nan, 1.25, 'A',\n",
       "       'SITSDDSLEVIARKLNREKELALEQTCALLDYARLQKIIEVISKAPFIQITGLGGSALVGRDLSFKLMKIGYRVACEADTHVQATVSQALKKGDVQIAISYSGSKKEIVLCAEAARKQGATVIAITSLTDSPLRRLAHFTLDTVSGETEWRSSSMSTRTAQNSVTDLLFVGLVQLNDVESLKMIQRSSELTQRLK',\n",
       "       'B', 'MurNAc', nan, nan, nan, nan, nan], dtype=object)"
      ]
     },
     "execution_count": 28,
     "metadata": {},
     "output_type": "execute_result"
    }
   ],
   "source": [
    "df.values[5]"
   ]
  },
  {
   "cell_type": "code",
   "execution_count": 29,
   "id": "819e9da9-b71c-43c0-95c1-7143effd288b",
   "metadata": {},
   "outputs": [],
   "source": [
    "class ChainSelect(Select):\n",
    "    def accept_residue(self, residue):\n",
    "        r = residue\n",
    "        #help(r)\n",
    "        #if residue.get_resname()=='GLY':\n",
    "        \n",
    "        n = str(r.id[1]).strip()\n",
    "        c = str(r.get_parent().id).strip()\n",
    "        #print(n,c)\n",
    "        resname = str(r.get_resname())\n",
    "        #remove waters\n",
    "        badres = ['HOH','CA','NA','CL','ZN','EDO','GOL','C8E','TRS','MXE','MPD','C',\n",
    "                  'MN','IOD','PG4','MLT','MLI','ACT','MG','DMU','SO4','IMD','ACT','PGE',\n",
    "                  'PEG']\n",
    "        if resname in badres:\n",
    "            return 0\n",
    "        \n",
    "        #resarr = [n,c,resname]\n",
    "        #if resname in carb:\n",
    "        #if resarr in res_p:\n",
    "        if c in chains:\n",
    "            return 1\n",
    "        else:\n",
    "            return 0"
   ]
  },
  {
   "cell_type": "code",
   "execution_count": null,
   "id": "5f25a9a6-4e58-45e1-93a6-f476f20880c0",
   "metadata": {},
   "outputs": [],
   "source": []
  },
  {
   "cell_type": "code",
   "execution_count": 30,
   "id": "777e74b2-5421-4724-9b1d-e10a5e7b4a8d",
   "metadata": {
    "collapsed": true,
    "jupyter": {
     "outputs_hidden": true
    },
    "tags": []
   },
   "outputs": [
    {
     "name": "stdout",
     "output_type": "stream",
     "text": [
      "7BLG ['A', 'B']\n",
      "7en5 ['A', 'B']\n",
      "7vi7 ['A', 'C']\n"
     ]
    },
    {
     "name": "stderr",
     "output_type": "stream",
     "text": [
      "/Users/scanner1/opt/anaconda3/lib/python3.8/site-packages/Bio/PDB/StructureBuilder.py:89: PDBConstructionWarning: WARNING: Chain A is discontinuous at line 5832.\n",
      "  warnings.warn(\n",
      "/Users/scanner1/opt/anaconda3/lib/python3.8/site-packages/Bio/PDB/StructureBuilder.py:89: PDBConstructionWarning: WARNING: Chain B is discontinuous at line 5853.\n",
      "  warnings.warn(\n",
      "/Users/scanner1/opt/anaconda3/lib/python3.8/site-packages/Bio/PDB/StructureBuilder.py:89: PDBConstructionWarning: WARNING: Chain A is discontinuous at line 5877.\n",
      "  warnings.warn(\n",
      "/Users/scanner1/opt/anaconda3/lib/python3.8/site-packages/Bio/PDB/StructureBuilder.py:89: PDBConstructionWarning: WARNING: Chain B is discontinuous at line 6093.\n",
      "  warnings.warn(\n"
     ]
    },
    {
     "name": "stdout",
     "output_type": "stream",
     "text": [
      "7w11 ['A', 'C']\n",
      "8ad2 ['A', 'I']\n"
     ]
    },
    {
     "name": "stderr",
     "output_type": "stream",
     "text": [
      "/Users/scanner1/opt/anaconda3/lib/python3.8/site-packages/Bio/PDB/StructureBuilder.py:89: PDBConstructionWarning: WARNING: Chain A is discontinuous at line 22792.\n",
      "  warnings.warn(\n",
      "/Users/scanner1/opt/anaconda3/lib/python3.8/site-packages/Bio/PDB/StructureBuilder.py:89: PDBConstructionWarning: WARNING: Chain B is discontinuous at line 22794.\n",
      "  warnings.warn(\n",
      "/Users/scanner1/opt/anaconda3/lib/python3.8/site-packages/Bio/PDB/StructureBuilder.py:89: PDBConstructionWarning: WARNING: Chain C is discontinuous at line 22799.\n",
      "  warnings.warn(\n",
      "/Users/scanner1/opt/anaconda3/lib/python3.8/site-packages/Bio/PDB/StructureBuilder.py:89: PDBConstructionWarning: WARNING: Chain D is discontinuous at line 22803.\n",
      "  warnings.warn(\n",
      "/Users/scanner1/opt/anaconda3/lib/python3.8/site-packages/Bio/PDB/StructureBuilder.py:89: PDBConstructionWarning: WARNING: Chain E is discontinuous at line 22806.\n",
      "  warnings.warn(\n",
      "/Users/scanner1/opt/anaconda3/lib/python3.8/site-packages/Bio/PDB/StructureBuilder.py:89: PDBConstructionWarning: WARNING: Chain F is discontinuous at line 22809.\n",
      "  warnings.warn(\n",
      "/Users/scanner1/opt/anaconda3/lib/python3.8/site-packages/Bio/PDB/StructureBuilder.py:89: PDBConstructionWarning: WARNING: Chain G is discontinuous at line 22813.\n",
      "  warnings.warn(\n",
      "/Users/scanner1/opt/anaconda3/lib/python3.8/site-packages/Bio/PDB/StructureBuilder.py:89: PDBConstructionWarning: WARNING: Chain A is discontinuous at line 22816.\n",
      "  warnings.warn(\n",
      "/Users/scanner1/opt/anaconda3/lib/python3.8/site-packages/Bio/PDB/StructureBuilder.py:89: PDBConstructionWarning: WARNING: Chain B is discontinuous at line 22914.\n",
      "  warnings.warn(\n",
      "/Users/scanner1/opt/anaconda3/lib/python3.8/site-packages/Bio/PDB/StructureBuilder.py:89: PDBConstructionWarning: WARNING: Chain C is discontinuous at line 23001.\n",
      "  warnings.warn(\n",
      "/Users/scanner1/opt/anaconda3/lib/python3.8/site-packages/Bio/PDB/StructureBuilder.py:89: PDBConstructionWarning: WARNING: Chain D is discontinuous at line 23072.\n",
      "  warnings.warn(\n",
      "/Users/scanner1/opt/anaconda3/lib/python3.8/site-packages/Bio/PDB/StructureBuilder.py:89: PDBConstructionWarning: WARNING: Chain E is discontinuous at line 23158.\n",
      "  warnings.warn(\n",
      "/Users/scanner1/opt/anaconda3/lib/python3.8/site-packages/Bio/PDB/StructureBuilder.py:89: PDBConstructionWarning: WARNING: Chain F is discontinuous at line 23239.\n",
      "  warnings.warn(\n",
      "/Users/scanner1/opt/anaconda3/lib/python3.8/site-packages/Bio/PDB/StructureBuilder.py:89: PDBConstructionWarning: WARNING: Chain G is discontinuous at line 23350.\n",
      "  warnings.warn(\n",
      "/Users/scanner1/opt/anaconda3/lib/python3.8/site-packages/Bio/PDB/StructureBuilder.py:89: PDBConstructionWarning: WARNING: Chain H is discontinuous at line 23439.\n",
      "  warnings.warn(\n"
     ]
    },
    {
     "name": "stdout",
     "output_type": "stream",
     "text": [
      "7eqr ['B', 'H']\n"
     ]
    },
    {
     "name": "stderr",
     "output_type": "stream",
     "text": [
      "/Users/scanner1/opt/anaconda3/lib/python3.8/site-packages/Bio/PDB/StructureBuilder.py:89: PDBConstructionWarning: WARNING: Chain A is discontinuous at line 16993.\n",
      "  warnings.warn(\n",
      "/Users/scanner1/opt/anaconda3/lib/python3.8/site-packages/Bio/PDB/StructureBuilder.py:89: PDBConstructionWarning: WARNING: Chain B is discontinuous at line 17056.\n",
      "  warnings.warn(\n",
      "/Users/scanner1/opt/anaconda3/lib/python3.8/site-packages/Bio/PDB/StructureBuilder.py:89: PDBConstructionWarning: WARNING: Chain C is discontinuous at line 17138.\n",
      "  warnings.warn(\n",
      "/Users/scanner1/opt/anaconda3/lib/python3.8/site-packages/Bio/PDB/StructureBuilder.py:89: PDBConstructionWarning: WARNING: Chain D is discontinuous at line 17216.\n",
      "  warnings.warn(\n",
      "/Users/scanner1/opt/anaconda3/lib/python3.8/site-packages/Bio/PDB/StructureBuilder.py:89: PDBConstructionWarning: WARNING: Chain E is discontinuous at line 17243.\n",
      "  warnings.warn(\n",
      "/Users/scanner1/opt/anaconda3/lib/python3.8/site-packages/Bio/PDB/StructureBuilder.py:89: PDBConstructionWarning: WARNING: Chain F is discontinuous at line 17302.\n",
      "  warnings.warn(\n",
      "/Users/scanner1/opt/anaconda3/lib/python3.8/site-packages/Bio/PDB/StructureBuilder.py:89: PDBConstructionWarning: WARNING: Chain A is discontinuous at line 17317.\n",
      "  warnings.warn(\n",
      "/Users/scanner1/opt/anaconda3/lib/python3.8/site-packages/Bio/PDB/StructureBuilder.py:89: PDBConstructionWarning: WARNING: Chain B is discontinuous at line 17388.\n",
      "  warnings.warn(\n",
      "/Users/scanner1/opt/anaconda3/lib/python3.8/site-packages/Bio/PDB/StructureBuilder.py:89: PDBConstructionWarning: WARNING: Chain C is discontinuous at line 17420.\n",
      "  warnings.warn(\n",
      "/Users/scanner1/opt/anaconda3/lib/python3.8/site-packages/Bio/PDB/StructureBuilder.py:89: PDBConstructionWarning: WARNING: Chain D is discontinuous at line 17471.\n",
      "  warnings.warn(\n",
      "/Users/scanner1/opt/anaconda3/lib/python3.8/site-packages/Bio/PDB/StructureBuilder.py:89: PDBConstructionWarning: WARNING: Chain E is discontinuous at line 17518.\n",
      "  warnings.warn(\n",
      "/Users/scanner1/opt/anaconda3/lib/python3.8/site-packages/Bio/PDB/StructureBuilder.py:89: PDBConstructionWarning: WARNING: Chain F is discontinuous at line 17567.\n",
      "  warnings.warn(\n",
      "/Users/scanner1/opt/anaconda3/lib/python3.8/site-packages/Bio/PDB/StructureBuilder.py:89: PDBConstructionWarning: WARNING: Chain B is discontinuous at line 12091.\n",
      "  warnings.warn(\n",
      "/Users/scanner1/opt/anaconda3/lib/python3.8/site-packages/Bio/PDB/StructureBuilder.py:89: PDBConstructionWarning: WARNING: Chain A is discontinuous at line 12100.\n",
      "  warnings.warn(\n"
     ]
    },
    {
     "name": "stdout",
     "output_type": "stream",
     "text": [
      "7exo ['A', 'C']\n",
      "7exj ['A', 'C']\n",
      "7f9g ['A', 'C']\n",
      "7jnf ['A', 'B']\n"
     ]
    },
    {
     "name": "stderr",
     "output_type": "stream",
     "text": [
      "/Users/scanner1/opt/anaconda3/lib/python3.8/site-packages/Bio/PDB/StructureBuilder.py:89: PDBConstructionWarning: WARNING: Chain A is discontinuous at line 2517.\n",
      "  warnings.warn(\n",
      "/Users/scanner1/opt/anaconda3/lib/python3.8/site-packages/Bio/PDB/StructureBuilder.py:89: PDBConstructionWarning: WARNING: Chain B is discontinuous at line 2530.\n",
      "  warnings.warn(\n",
      "/Users/scanner1/opt/anaconda3/lib/python3.8/site-packages/Bio/PDB/StructureBuilder.py:89: PDBConstructionWarning: WARNING: Chain A is discontinuous at line 2543.\n",
      "  warnings.warn(\n",
      "/Users/scanner1/opt/anaconda3/lib/python3.8/site-packages/Bio/PDB/StructureBuilder.py:89: PDBConstructionWarning: WARNING: Chain B is discontinuous at line 2699.\n",
      "  warnings.warn(\n"
     ]
    },
    {
     "name": "stdout",
     "output_type": "stream",
     "text": [
      "7jwf ['A', 'F']\n"
     ]
    },
    {
     "name": "stderr",
     "output_type": "stream",
     "text": [
      "/Users/scanner1/opt/anaconda3/lib/python3.8/site-packages/Bio/PDB/StructureBuilder.py:89: PDBConstructionWarning: WARNING: Chain A is discontinuous at line 19906.\n",
      "  warnings.warn(\n",
      "/Users/scanner1/opt/anaconda3/lib/python3.8/site-packages/Bio/PDB/StructureBuilder.py:89: PDBConstructionWarning: WARNING: Chain B is discontinuous at line 20016.\n",
      "  warnings.warn(\n",
      "/Users/scanner1/opt/anaconda3/lib/python3.8/site-packages/Bio/PDB/StructureBuilder.py:89: PDBConstructionWarning: WARNING: Chain C is discontinuous at line 20109.\n",
      "  warnings.warn(\n",
      "/Users/scanner1/opt/anaconda3/lib/python3.8/site-packages/Bio/PDB/StructureBuilder.py:89: PDBConstructionWarning: WARNING: Chain D is discontinuous at line 20203.\n",
      "  warnings.warn(\n",
      "/Users/scanner1/opt/anaconda3/lib/python3.8/site-packages/Bio/PDB/StructureBuilder.py:89: PDBConstructionWarning: WARNING: Chain A is discontinuous at line 20340.\n",
      "  warnings.warn(\n",
      "/Users/scanner1/opt/anaconda3/lib/python3.8/site-packages/Bio/PDB/StructureBuilder.py:89: PDBConstructionWarning: WARNING: Chain B is discontinuous at line 20758.\n",
      "  warnings.warn(\n",
      "/Users/scanner1/opt/anaconda3/lib/python3.8/site-packages/Bio/PDB/StructureBuilder.py:89: PDBConstructionWarning: WARNING: Chain C is discontinuous at line 21164.\n",
      "  warnings.warn(\n",
      "/Users/scanner1/opt/anaconda3/lib/python3.8/site-packages/Bio/PDB/StructureBuilder.py:89: PDBConstructionWarning: WARNING: Chain D is discontinuous at line 21572.\n",
      "  warnings.warn(\n"
     ]
    },
    {
     "name": "stdout",
     "output_type": "stream",
     "text": [
      "7lvy ['A', 'C']\n",
      "7mzs ['A', 'B']\n",
      "7p8g ['A', 'C']\n",
      "7pgk ['A', 'C']\n",
      "7pug ['A', 'B']\n"
     ]
    },
    {
     "name": "stderr",
     "output_type": "stream",
     "text": [
      "/Users/scanner1/opt/anaconda3/lib/python3.8/site-packages/Bio/PDB/StructureBuilder.py:89: PDBConstructionWarning: WARNING: Chain A is discontinuous at line 14248.\n",
      "  warnings.warn(\n",
      "/Users/scanner1/opt/anaconda3/lib/python3.8/site-packages/Bio/PDB/StructureBuilder.py:89: PDBConstructionWarning: WARNING: Chain A is discontinuous at line 7904.\n",
      "  warnings.warn(\n",
      "/Users/scanner1/opt/anaconda3/lib/python3.8/site-packages/Bio/PDB/StructureBuilder.py:89: PDBConstructionWarning: WARNING: Chain B is discontinuous at line 7930.\n",
      "  warnings.warn(\n",
      "/Users/scanner1/opt/anaconda3/lib/python3.8/site-packages/Bio/PDB/StructureBuilder.py:89: PDBConstructionWarning: WARNING: Chain A is discontinuous at line 7940.\n",
      "  warnings.warn(\n",
      "/Users/scanner1/opt/anaconda3/lib/python3.8/site-packages/Bio/PDB/StructureBuilder.py:89: PDBConstructionWarning: WARNING: Chain B is discontinuous at line 8251.\n",
      "  warnings.warn(\n",
      "/Users/scanner1/opt/anaconda3/lib/python3.8/site-packages/Bio/PDB/StructureBuilder.py:89: PDBConstructionWarning: WARNING: Chain A is discontinuous at line 4247.\n",
      "  warnings.warn(\n"
     ]
    },
    {
     "name": "stdout",
     "output_type": "stream",
     "text": [
      "7rft ['A', 'C']\n",
      "7rpy ['A', 'B']\n",
      "7toh ['A', 'C']\n"
     ]
    },
    {
     "name": "stderr",
     "output_type": "stream",
     "text": [
      "/Users/scanner1/opt/anaconda3/lib/python3.8/site-packages/Bio/PDB/StructureBuilder.py:89: PDBConstructionWarning: WARNING: Chain A is discontinuous at line 6404.\n",
      "  warnings.warn(\n",
      "/Users/scanner1/opt/anaconda3/lib/python3.8/site-packages/Bio/PDB/StructureBuilder.py:89: PDBConstructionWarning: WARNING: Chain A is discontinuous at line 3865.\n",
      "  warnings.warn(\n",
      "/Users/scanner1/opt/anaconda3/lib/python3.8/site-packages/Bio/PDB/StructureBuilder.py:89: PDBConstructionWarning: WARNING: Chain A is discontinuous at line 14525.\n",
      "  warnings.warn(\n",
      "/Users/scanner1/opt/anaconda3/lib/python3.8/site-packages/Bio/PDB/StructureBuilder.py:89: PDBConstructionWarning: WARNING: Chain B is discontinuous at line 14782.\n",
      "  warnings.warn(\n",
      "/Users/scanner1/opt/anaconda3/lib/python3.8/site-packages/Bio/PDB/StructureBuilder.py:89: PDBConstructionWarning: WARNING: Chain A is discontinuous at line 15081.\n",
      "  warnings.warn(\n",
      "/Users/scanner1/opt/anaconda3/lib/python3.8/site-packages/Bio/PDB/StructureBuilder.py:89: PDBConstructionWarning: WARNING: Chain B is discontinuous at line 15285.\n",
      "  warnings.warn(\n"
     ]
    },
    {
     "name": "stdout",
     "output_type": "stream",
     "text": [
      "7tvp ['A', 'B']\n",
      "binds phospho-Fru [nan, nan]\n",
      "ope binds phospho-Fru\n",
      "7vu1 ['A', 'C']\n",
      "7vwb ['A', 'C']\n",
      "7w18 ['A', 'B']\n",
      "7xtn ['A', 'C']\n"
     ]
    },
    {
     "name": "stderr",
     "output_type": "stream",
     "text": [
      "/Users/scanner1/opt/anaconda3/lib/python3.8/site-packages/Bio/PDB/StructureBuilder.py:89: PDBConstructionWarning: WARNING: Chain A is discontinuous at line 2867.\n",
      "  warnings.warn(\n",
      "/Users/scanner1/opt/anaconda3/lib/python3.8/site-packages/Bio/PDB/StructureBuilder.py:89: PDBConstructionWarning: WARNING: Chain B is discontinuous at line 2986.\n",
      "  warnings.warn(\n",
      "/Users/scanner1/opt/anaconda3/lib/python3.8/site-packages/Bio/PDB/StructureBuilder.py:89: PDBConstructionWarning: WARNING: Chain A is discontinuous at line 2227.\n",
      "  warnings.warn(\n",
      "/Users/scanner1/opt/anaconda3/lib/python3.8/site-packages/Bio/PDB/StructureBuilder.py:89: PDBConstructionWarning: WARNING: Chain A is discontinuous at line 5520.\n",
      "  warnings.warn(\n",
      "/Users/scanner1/opt/anaconda3/lib/python3.8/site-packages/Bio/PDB/StructureBuilder.py:89: PDBConstructionWarning: WARNING: Chain B is discontinuous at line 5547.\n",
      "  warnings.warn(\n",
      "/Users/scanner1/opt/anaconda3/lib/python3.8/site-packages/Bio/PDB/StructureBuilder.py:89: PDBConstructionWarning: WARNING: Chain A is discontinuous at line 5566.\n",
      "  warnings.warn(\n",
      "/Users/scanner1/opt/anaconda3/lib/python3.8/site-packages/Bio/PDB/StructureBuilder.py:89: PDBConstructionWarning: WARNING: Chain B is discontinuous at line 5687.\n",
      "  warnings.warn(\n",
      "/Users/scanner1/opt/anaconda3/lib/python3.8/site-packages/Bio/PDB/StructureBuilder.py:89: PDBConstructionWarning: WARNING: Chain A is discontinuous at line 6874.\n",
      "  warnings.warn(\n",
      "/Users/scanner1/opt/anaconda3/lib/python3.8/site-packages/Bio/PDB/StructureBuilder.py:89: PDBConstructionWarning: WARNING: Chain B is discontinuous at line 6882.\n",
      "  warnings.warn(\n",
      "/Users/scanner1/opt/anaconda3/lib/python3.8/site-packages/Bio/PDB/StructureBuilder.py:89: PDBConstructionWarning: WARNING: Chain A is discontinuous at line 6895.\n",
      "  warnings.warn(\n",
      "/Users/scanner1/opt/anaconda3/lib/python3.8/site-packages/Bio/PDB/StructureBuilder.py:89: PDBConstructionWarning: WARNING: Chain B is discontinuous at line 6897.\n",
      "  warnings.warn(\n",
      "/Users/scanner1/opt/anaconda3/lib/python3.8/site-packages/Bio/PDB/StructureBuilder.py:89: PDBConstructionWarning: WARNING: Chain C is discontinuous at line 6899.\n",
      "  warnings.warn(\n"
     ]
    },
    {
     "name": "stdout",
     "output_type": "stream",
     "text": [
      "7ywf ['A', 'D']\n",
      "7zoo ['B', 'E']\n",
      "8axs ['A', 'C']\n"
     ]
    },
    {
     "name": "stderr",
     "output_type": "stream",
     "text": [
      "/Users/scanner1/opt/anaconda3/lib/python3.8/site-packages/Bio/PDB/StructureBuilder.py:89: PDBConstructionWarning: WARNING: Chain A is discontinuous at line 2423.\n",
      "  warnings.warn(\n",
      "/Users/scanner1/opt/anaconda3/lib/python3.8/site-packages/Bio/PDB/StructureBuilder.py:89: PDBConstructionWarning: WARNING: Chain B is discontinuous at line 2447.\n",
      "  warnings.warn(\n",
      "/Users/scanner1/opt/anaconda3/lib/python3.8/site-packages/Bio/PDB/StructureBuilder.py:89: PDBConstructionWarning: WARNING: Chain A is discontinuous at line 2459.\n",
      "  warnings.warn(\n",
      "/Users/scanner1/opt/anaconda3/lib/python3.8/site-packages/Bio/PDB/StructureBuilder.py:89: PDBConstructionWarning: WARNING: Chain B is discontinuous at line 2528.\n",
      "  warnings.warn(\n",
      "/Users/scanner1/opt/anaconda3/lib/python3.8/site-packages/Bio/PDB/StructureBuilder.py:89: PDBConstructionWarning: WARNING: Chain A is discontinuous at line 19037.\n",
      "  warnings.warn(\n",
      "/Users/scanner1/opt/anaconda3/lib/python3.8/site-packages/Bio/PDB/StructureBuilder.py:89: PDBConstructionWarning: WARNING: Chain B is discontinuous at line 19157.\n",
      "  warnings.warn(\n",
      "/Users/scanner1/opt/anaconda3/lib/python3.8/site-packages/Bio/PDB/StructureBuilder.py:89: PDBConstructionWarning: WARNING: Chain A is discontinuous at line 19262.\n",
      "  warnings.warn(\n",
      "/Users/scanner1/opt/anaconda3/lib/python3.8/site-packages/Bio/PDB/StructureBuilder.py:89: PDBConstructionWarning: WARNING: Chain B is discontinuous at line 19963.\n",
      "  warnings.warn(\n"
     ]
    },
    {
     "name": "stdout",
     "output_type": "stream",
     "text": [
      "8bf3 ['A', 'C']\n"
     ]
    },
    {
     "name": "stderr",
     "output_type": "stream",
     "text": [
      "/Users/scanner1/opt/anaconda3/lib/python3.8/site-packages/Bio/PDB/StructureBuilder.py:89: PDBConstructionWarning: WARNING: Chain A is discontinuous at line 17533.\n",
      "  warnings.warn(\n",
      "/Users/scanner1/opt/anaconda3/lib/python3.8/site-packages/Bio/PDB/StructureBuilder.py:89: PDBConstructionWarning: WARNING: Chain B is discontinuous at line 17617.\n",
      "  warnings.warn(\n",
      "/Users/scanner1/opt/anaconda3/lib/python3.8/site-packages/Bio/PDB/StructureBuilder.py:89: PDBConstructionWarning: WARNING: Chain A is discontinuous at line 17759.\n",
      "  warnings.warn(\n",
      "/Users/scanner1/opt/anaconda3/lib/python3.8/site-packages/Bio/PDB/StructureBuilder.py:89: PDBConstructionWarning: WARNING: Chain B is discontinuous at line 18837.\n",
      "  warnings.warn(\n",
      "/Users/scanner1/opt/anaconda3/lib/python3.8/site-packages/Bio/PDB/StructureBuilder.py:89: PDBConstructionWarning: WARNING: Chain A is discontinuous at line 13621.\n",
      "  warnings.warn(\n",
      "/Users/scanner1/opt/anaconda3/lib/python3.8/site-packages/Bio/PDB/StructureBuilder.py:89: PDBConstructionWarning: WARNING: Chain B is discontinuous at line 13683.\n",
      "  warnings.warn(\n",
      "/Users/scanner1/opt/anaconda3/lib/python3.8/site-packages/Bio/PDB/StructureBuilder.py:89: PDBConstructionWarning: WARNING: Chain A is discontinuous at line 13745.\n",
      "  warnings.warn(\n",
      "/Users/scanner1/opt/anaconda3/lib/python3.8/site-packages/Bio/PDB/StructureBuilder.py:89: PDBConstructionWarning: WARNING: Chain B is discontinuous at line 13856.\n",
      "  warnings.warn(\n"
     ]
    },
    {
     "name": "stdout",
     "output_type": "stream",
     "text": [
      "8csf ['A', 'C']\n",
      "8d0w ['A', 'C']\n",
      "8dzd ['A', 'C']\n"
     ]
    },
    {
     "name": "stderr",
     "output_type": "stream",
     "text": [
      "/Users/scanner1/opt/anaconda3/lib/python3.8/site-packages/Bio/PDB/StructureBuilder.py:89: PDBConstructionWarning: WARNING: Chain A is discontinuous at line 5498.\n",
      "  warnings.warn(\n",
      "/Users/scanner1/opt/anaconda3/lib/python3.8/site-packages/Bio/PDB/StructureBuilder.py:89: PDBConstructionWarning: WARNING: Chain A is discontinuous at line 2559.\n",
      "  warnings.warn(\n",
      "/Users/scanner1/opt/anaconda3/lib/python3.8/site-packages/Bio/PDB/StructureBuilder.py:89: PDBConstructionWarning: WARNING: Chain B is discontinuous at line 2654.\n",
      "  warnings.warn(\n",
      "/Users/scanner1/opt/anaconda3/lib/python3.8/site-packages/Bio/PDB/StructureBuilder.py:89: PDBConstructionWarning: WARNING: Chain A is discontinuous at line 7016.\n",
      "  warnings.warn(\n",
      "/Users/scanner1/opt/anaconda3/lib/python3.8/site-packages/Bio/PDB/StructureBuilder.py:89: PDBConstructionWarning: WARNING: Chain B is discontinuous at line 7028.\n",
      "  warnings.warn(\n"
     ]
    },
    {
     "name": "stdout",
     "output_type": "stream",
     "text": [
      "8edi ['A', 'E']\n",
      "8ic1 ['A', 'F']\n",
      "8inp ['A', 'C']\n",
      "8ped ['A', 'B']\n"
     ]
    },
    {
     "name": "stderr",
     "output_type": "stream",
     "text": [
      "/Users/scanner1/opt/anaconda3/lib/python3.8/site-packages/Bio/PDB/StructureBuilder.py:89: PDBConstructionWarning: WARNING: Chain A is discontinuous at line 16109.\n",
      "  warnings.warn(\n",
      "/Users/scanner1/opt/anaconda3/lib/python3.8/site-packages/Bio/PDB/StructureBuilder.py:89: PDBConstructionWarning: WARNING: Chain B is discontinuous at line 16163.\n",
      "  warnings.warn(\n",
      "/Users/scanner1/opt/anaconda3/lib/python3.8/site-packages/Bio/PDB/StructureBuilder.py:89: PDBConstructionWarning: WARNING: Chain C is discontinuous at line 16237.\n",
      "  warnings.warn(\n",
      "/Users/scanner1/opt/anaconda3/lib/python3.8/site-packages/Bio/PDB/StructureBuilder.py:89: PDBConstructionWarning: WARNING: Chain D is discontinuous at line 16294.\n",
      "  warnings.warn(\n",
      "/Users/scanner1/opt/anaconda3/lib/python3.8/site-packages/Bio/PDB/StructureBuilder.py:89: PDBConstructionWarning: WARNING: Chain A is discontinuous at line 16351.\n",
      "  warnings.warn(\n",
      "/Users/scanner1/opt/anaconda3/lib/python3.8/site-packages/Bio/PDB/StructureBuilder.py:89: PDBConstructionWarning: WARNING: Chain B is discontinuous at line 16705.\n",
      "  warnings.warn(\n",
      "/Users/scanner1/opt/anaconda3/lib/python3.8/site-packages/Bio/PDB/StructureBuilder.py:89: PDBConstructionWarning: WARNING: Chain C is discontinuous at line 17035.\n",
      "  warnings.warn(\n",
      "/Users/scanner1/opt/anaconda3/lib/python3.8/site-packages/Bio/PDB/StructureBuilder.py:89: PDBConstructionWarning: WARNING: Chain D is discontinuous at line 17348.\n",
      "  warnings.warn(\n",
      "/Users/scanner1/opt/anaconda3/lib/python3.8/site-packages/Bio/PDB/StructureBuilder.py:89: PDBConstructionWarning: WARNING: Chain A is discontinuous at line 6110.\n",
      "  warnings.warn(\n"
     ]
    }
   ],
   "source": [
    "parser=PDBParser()\n",
    "io=PDBIO()\n",
    "\n",
    "chains = []\n",
    "\n",
    "for ii in df.values:\n",
    "    if type(ii[1]) == type(np.nan):\n",
    "        continue;\n",
    "    \n",
    "    p = ii[1]\n",
    "    pc = ii[6]\n",
    "    cc = ii[8]\n",
    "    oc = ii[-1]\n",
    "    mychains = [pc,cc]\n",
    "    if type(oc) != type(np.nan):\n",
    "        mychains.append(oc)\n",
    "    \n",
    "    print(p,mychains)\n",
    "\n",
    "    try:\n",
    "        structure=parser.get_structure(\"prot\", 'rcsb_pdb/'+ p + '.pdb')\n",
    "        #print(ii,p,c_prot,c_carb)\n",
    "        chains = mychains\n",
    "        io.set_structure(structure)\n",
    "        io.save('./refined_xtal_pdb/' + p + '_refined' + '.pdb', ChainSelect())\n",
    "    except:\n",
    "        print(\"ope\",p)"
   ]
  },
  {
   "cell_type": "code",
   "execution_count": null,
   "id": "a8db7ac1-1e8b-4951-ac45-308672f0b24c",
   "metadata": {},
   "outputs": [],
   "source": []
  }
 ],
 "metadata": {
  "kernelspec": {
   "display_name": "Python 3",
   "language": "python",
   "name": "python3"
  },
  "language_info": {
   "codemirror_mode": {
    "name": "ipython",
    "version": 3
   },
   "file_extension": ".py",
   "mimetype": "text/x-python",
   "name": "python",
   "nbconvert_exporter": "python",
   "pygments_lexer": "ipython3",
   "version": "3.8.8"
  }
 },
 "nbformat": 4,
 "nbformat_minor": 5
}
